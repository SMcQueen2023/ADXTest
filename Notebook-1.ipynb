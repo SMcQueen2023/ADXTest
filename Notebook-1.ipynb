{
    "metadata": {
        "kernelspec": {
            "name": "SQL",
            "display_name": "SQL",
            "language": "sql"
        },
        "language_info": {
            "name": "sql",
            "version": ""
        }
    },
    "nbformat_minor": 2,
    "nbformat": 4,
    "cells": [
        {
            "cell_type": "markdown",
            "source": [
                "Testing pull request change to file."
            ],
            "metadata": {
                "azdata_cell_guid": "ac4fdca6-93e0-469d-a692-32ba1035cd3b"
            },
            "attachments": {}
        },
        {
            "cell_type": "code",
            "source": [
                "select count(*) as COUNT from dbo.DimCustomer;"
            ],
            "metadata": {
                "azdata_cell_guid": "c15f028b-9d89-48c3-b33f-c7ba4c89c546",
                "language": "sql"
            },
            "outputs": [
                {
                    "output_type": "display_data",
                    "data": {
                        "text/html": "(1 row affected)"
                    },
                    "metadata": {}
                },
                {
                    "output_type": "display_data",
                    "data": {
                        "text/html": "Total execution time: 00:00:00.004"
                    },
                    "metadata": {}
                },
                {
                    "output_type": "execute_result",
                    "metadata": {},
                    "execution_count": 7,
                    "data": {
                        "application/vnd.dataresource+json": {
                            "schema": {
                                "fields": [
                                    {
                                        "name": "COUNT"
                                    }
                                ]
                            },
                            "data": [
                                {
                                    "COUNT": "18484"
                                }
                            ]
                        },
                        "text/html": [
                            "<table>",
                            "<tr><th>COUNT</th></tr>",
                            "<tr><td>18484</td></tr>",
                            "</table>"
                        ]
                    }
                }
            ],
            "execution_count": 7
        }
    ]
}
